{
 "cells": [
  {
   "cell_type": "code",
   "execution_count": 5,
   "id": "6555bb9b-d27d-439c-91b2-38b2a3654b0f",
   "metadata": {},
   "outputs": [
    {
     "name": "stdout",
     "output_type": "stream",
     "text": [
      "Collecting napalm\n",
      "  Using cached napalm-4.1.0-py2.py3-none-any.whl (267 kB)\n",
      "Collecting ttp\n",
      "  Using cached ttp-0.9.5-py2.py3-none-any.whl (85 kB)\n",
      "Collecting netutils>=1.0.0\n",
      "  Using cached netutils-1.5.0-py3-none-any.whl (472 kB)\n",
      "Requirement already satisfied: pyYAML in /Users/khalidm/anaconda3/lib/python3.10/site-packages (from napalm) (6.0)\n",
      "Requirement already satisfied: scp in /Users/khalidm/anaconda3/lib/python3.10/site-packages (from napalm) (0.14.5)\n",
      "Requirement already satisfied: cffi>=1.11.3 in /Users/khalidm/anaconda3/lib/python3.10/site-packages (from napalm) (1.15.1)\n",
      "Requirement already satisfied: paramiko>=2.6.0 in /Users/khalidm/anaconda3/lib/python3.10/site-packages (from napalm) (3.2.0)\n",
      "Collecting ttp-templates\n",
      "  Using cached ttp_templates-0.3.5-py3-none-any.whl (72 kB)\n",
      "Requirement already satisfied: future in /Users/khalidm/anaconda3/lib/python3.10/site-packages (from napalm) (0.18.3)\n",
      "Collecting junos-eznc>=2.6.3\n",
      "  Using cached junos_eznc-2.6.7-py2.py3-none-any.whl (197 kB)\n",
      "Requirement already satisfied: jinja2 in /Users/khalidm/anaconda3/lib/python3.10/site-packages (from napalm) (3.1.2)\n",
      "Collecting pyeapi>=0.8.2\n",
      "  Using cached pyeapi-1.0.2.tar.gz (146 kB)\n",
      "  Preparing metadata (setup.py) ... \u001b[?25ldone\n",
      "\u001b[?25hRequirement already satisfied: setuptools>=38.4.0 in /Users/khalidm/anaconda3/lib/python3.10/site-packages (from napalm) (65.6.3)\n",
      "Requirement already satisfied: netmiko>=4.1.0 in /Users/khalidm/anaconda3/lib/python3.10/site-packages (from napalm) (4.2.0)\n",
      "Requirement already satisfied: lxml>=4.3.0 in /Users/khalidm/anaconda3/lib/python3.10/site-packages (from napalm) (4.9.1)\n",
      "Requirement already satisfied: textfsm in /Users/khalidm/anaconda3/lib/python3.10/site-packages (from napalm) (1.1.3)\n",
      "Collecting netaddr\n",
      "  Using cached netaddr-0.8.0-py2.py3-none-any.whl (1.9 MB)\n",
      "Requirement already satisfied: requests>=2.7.0 in /Users/khalidm/anaconda3/lib/python3.10/site-packages (from napalm) (2.28.1)\n",
      "Requirement already satisfied: typing-extensions>=4.3.0 in /Users/khalidm/anaconda3/lib/python3.10/site-packages (from napalm) (4.4.0)\n",
      "Collecting ncclient\n",
      "  Using cached ncclient-0.6.13.tar.gz (105 kB)\n",
      "  Preparing metadata (setup.py) ... \u001b[?25ldone\n",
      "\u001b[?25hRequirement already satisfied: pycparser in /Users/khalidm/anaconda3/lib/python3.10/site-packages (from cffi>=1.11.3->napalm) (2.21)\n",
      "Collecting transitions\n",
      "  Using cached transitions-0.9.0-py2.py3-none-any.whl (97 kB)\n",
      "Requirement already satisfied: pyparsing in /Users/khalidm/anaconda3/lib/python3.10/site-packages (from junos-eznc>=2.6.3->napalm) (3.0.9)\n",
      "Collecting yamlordereddictloader\n",
      "  Using cached yamlordereddictloader-0.4.0.tar.gz (3.3 kB)\n",
      "  Preparing metadata (setup.py) ... \u001b[?25ldone\n",
      "\u001b[?25hRequirement already satisfied: six in /Users/khalidm/anaconda3/lib/python3.10/site-packages (from junos-eznc>=2.6.3->napalm) (1.16.0)\n",
      "Requirement already satisfied: pyserial in /Users/khalidm/anaconda3/lib/python3.10/site-packages (from junos-eznc>=2.6.3->napalm) (3.5)\n",
      "Requirement already satisfied: MarkupSafe>=2.0 in /Users/khalidm/anaconda3/lib/python3.10/site-packages (from jinja2->napalm) (2.1.1)\n",
      "Requirement already satisfied: ntc-templates>=2.0.0 in /Users/khalidm/anaconda3/lib/python3.10/site-packages (from netmiko>=4.1.0->napalm) (3.5.0)\n",
      "Requirement already satisfied: bcrypt>=3.2 in /Users/khalidm/anaconda3/lib/python3.10/site-packages (from paramiko>=2.6.0->napalm) (3.2.0)\n",
      "Requirement already satisfied: cryptography>=3.3 in /Users/khalidm/anaconda3/lib/python3.10/site-packages (from paramiko>=2.6.0->napalm) (39.0.1)\n",
      "Requirement already satisfied: pynacl>=1.5 in /Users/khalidm/anaconda3/lib/python3.10/site-packages (from paramiko>=2.6.0->napalm) (1.5.0)\n",
      "Requirement already satisfied: urllib3<1.27,>=1.21.1 in /Users/khalidm/anaconda3/lib/python3.10/site-packages (from requests>=2.7.0->napalm) (1.26.14)\n",
      "Requirement already satisfied: charset-normalizer<3,>=2 in /Users/khalidm/anaconda3/lib/python3.10/site-packages (from requests>=2.7.0->napalm) (2.0.4)\n",
      "Requirement already satisfied: idna<4,>=2.5 in /Users/khalidm/anaconda3/lib/python3.10/site-packages (from requests>=2.7.0->napalm) (3.4)\n",
      "Requirement already satisfied: certifi>=2017.4.17 in /Users/khalidm/anaconda3/lib/python3.10/site-packages (from requests>=2.7.0->napalm) (2022.12.7)\n",
      "Building wheels for collected packages: ncclient, pyeapi, yamlordereddictloader\n",
      "  Building wheel for ncclient (setup.py) ... \u001b[?25ldone\n",
      "\u001b[?25h  Created wheel for ncclient: filename=ncclient-0.6.13-py2.py3-none-any.whl size=84645 sha256=7dc3c05f3ea82c86f64c0af62e31263a6611bccbfc44042c2870440d654f08bf\n",
      "  Stored in directory: /Users/khalidm/Library/Caches/pip/wheels/ba/a2/1c/cea6680e514757b1a68e1e0a9eed0d65071a75545a893c9196\n",
      "  Building wheel for pyeapi (setup.py) ... \u001b[?25ldone\n",
      "\u001b[?25h  Created wheel for pyeapi: filename=pyeapi-1.0.2-py3-none-any.whl size=93939 sha256=ef3125d36308c7888aa1f2f46c77c5c2d6351b4d04ce2909722c73f16d7512d8\n",
      "  Stored in directory: /Users/khalidm/Library/Caches/pip/wheels/6c/bc/27/0106dafe4b1466343f6a5a5789da08c0aea8b58523a91cccd4\n",
      "  Building wheel for yamlordereddictloader (setup.py) ... \u001b[?25ldone\n",
      "\u001b[?25h  Created wheel for yamlordereddictloader: filename=yamlordereddictloader-0.4.0-py3-none-any.whl size=4052 sha256=b97c0d3374cf31c4ecd94d0419893d4cc64f0c1edeb757798955a2b3ad0c903d\n",
      "  Stored in directory: /Users/khalidm/Library/Caches/pip/wheels/02/a3/c3/caeb2ebf4fd9963f97ad7edc9f9f2fc33c5229dca0260d99a2\n",
      "Successfully built ncclient pyeapi yamlordereddictloader\n",
      "Installing collected packages: netaddr, yamlordereddictloader, ttp, transitions, pyeapi, netutils, ttp-templates, ncclient, junos-eznc, napalm\n",
      "Successfully installed junos-eznc-2.6.7 napalm-4.1.0 ncclient-0.6.13 netaddr-0.8.0 netutils-1.5.0 pyeapi-1.0.2 transitions-0.9.0 ttp-0.9.5 ttp-templates-0.3.5 yamlordereddictloader-0.4.0\n",
      "Note: you may need to restart the kernel to use updated packages.\n"
     ]
    }
   ],
   "source": [
    "%pip install napalm"
   ]
  },
  {
   "cell_type": "code",
   "execution_count": 6,
   "id": "439b9fa6-77ac-43be-a2f3-82c3b510ed48",
   "metadata": {},
   "outputs": [],
   "source": [
    "import napalm"
   ]
  },
  {
   "cell_type": "code",
   "execution_count": null,
   "id": "bdd8285d-96cd-4c08-8f37-7324a2313ff0",
   "metadata": {},
   "outputs": [],
   "source": []
  }
 ],
 "metadata": {
  "kernelspec": {
   "display_name": "Python 3 (ipykernel)",
   "language": "python",
   "name": "python3"
  },
  "language_info": {
   "codemirror_mode": {
    "name": "ipython",
    "version": 3
   },
   "file_extension": ".py",
   "mimetype": "text/x-python",
   "name": "python",
   "nbconvert_exporter": "python",
   "pygments_lexer": "ipython3",
   "version": "3.10.9"
  },
  "toc-autonumbering": false,
  "toc-showmarkdowntxt": true
 },
 "nbformat": 4,
 "nbformat_minor": 5
}
