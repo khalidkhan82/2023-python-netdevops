{
 "cells": [
  {
   "cell_type": "markdown",
   "id": "5698dc0e-c02e-4638-a6de-1831d6902935",
   "metadata": {},
   "source": [
    "# Netmiko Notebook"
   ]
  },
  {
   "cell_type": "code",
   "execution_count": 2,
   "id": "15fd7f32-c631-4729-baa1-0b3bf6e958e4",
   "metadata": {},
   "outputs": [],
   "source": [
    "# # This notebook explains the Netmiko\n",
    "# # it explains"
   ]
  },
  {
   "cell_type": "markdown",
   "id": "0b53233e-7982-48f5-9926-e2e13c9c9c40",
   "metadata": {},
   "source": [
    "**installation**"
   ]
  },
  {
   "cell_type": "markdown",
   "id": "905f5f9b-6362-4bf6-a116-2b8ee696e3ed",
   "metadata": {},
   "source": [
    "'pip install netmiko'"
   ]
  },
  {
   "cell_type": "markdown",
   "id": "9e89f760-69a3-4431-8729-68c4b7f8da55",
   "metadata": {},
   "source": []
  }
 ],
 "metadata": {
  "kernelspec": {
   "display_name": "Python 3 (ipykernel)",
   "language": "python",
   "name": "python3"
  },
  "language_info": {
   "codemirror_mode": {
    "name": "ipython",
    "version": 3
   },
   "file_extension": ".py",
   "mimetype": "text/x-python",
   "name": "python",
   "nbconvert_exporter": "python",
   "pygments_lexer": "ipython3",
   "version": "3.10.9"
  }
 },
 "nbformat": 4,
 "nbformat_minor": 5
}
