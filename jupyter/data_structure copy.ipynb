{
 "cells": [
  {
   "cell_type": "markdown",
   "metadata": {},
   "source": [
    "# **Dictionaries** #"
   ]
  },
  {
   "cell_type": "markdown",
   "metadata": {},
   "source": [
    "#### **Create an emptry dictionary** ####"
   ]
  },
  {
   "cell_type": "code",
   "execution_count": 7,
   "metadata": {},
   "outputs": [
    {
     "name": "stdout",
     "output_type": "stream",
     "text": [
      "{}\n",
      "My dictionary 1: <class 'dict'>\n",
      "My dictionary 1: <class 'dict'>\n"
     ]
    }
   ],
   "source": [
    "#create an empty dictionary\n",
    "student_1 = {}\n",
    "print(student_1)\n",
    "\n",
    "#create an emptry dictionary using dict() function\n",
    "student_2 = dict()\n",
    "\n",
    "#to check the data type use the type() function\n",
    "print(\"Student 1:\", type(student_1))\n",
    "print(\"Student 2:\", type(student_2))\n"
   ]
  },
  {
   "cell_type": "markdown",
   "metadata": {},
   "source": [
    "**Add values the dictionary**"
   ]
  },
  {
   "cell_type": "code",
   "execution_count": 23,
   "metadata": {},
   "outputs": [
    {
     "name": "stdout",
     "output_type": "stream",
     "text": [
      "{'name': 'Alice', 'age': 30, 'Country': 1990}\n",
      "{'name': 'John', 'age': 34, 'Country': 'USA'}\n",
      "name Alice\n",
      "age 30\n",
      "Country 1990\n",
      "('name', 'John')\n",
      "('age', 34)\n",
      "('Country', 'USA')\n"
     ]
    }
   ],
   "source": [
    "# add values to an emptry dictionary\n",
    "student_1 = {'name': 'Alice', 'age': 30, 'Country': 1990 }\n",
    "student_2 = dict(name = 'John', age = 34, Country = 'USA')\n",
    "\n",
    "#print the entire disctionary\n",
    "print(student_1) \n",
    "print(student_2)\n",
    "\n",
    "#print dictionary items for student_1\n",
    "for key, value in student_1.items():\n",
    "    print(key, value)\n",
    "    \n",
    "#print dictionary items for student_2\n",
    "for key in student_2.items():\n",
    "    print(key)"
   ]
  }
 ],
 "metadata": {
  "kernelspec": {
   "display_name": "Python 3",
   "language": "python",
   "name": "python3"
  },
  "language_info": {
   "codemirror_mode": {
    "name": "ipython",
    "version": 3
   },
   "file_extension": ".py",
   "mimetype": "text/x-python",
   "name": "python",
   "nbconvert_exporter": "python",
   "pygments_lexer": "ipython3",
   "version": "3.9.6"
  }
 },
 "nbformat": 4,
 "nbformat_minor": 2
}
