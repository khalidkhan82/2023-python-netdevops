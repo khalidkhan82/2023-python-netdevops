{
 "cells": [
  {
   "cell_type": "code",
   "execution_count": 5,
   "id": "aaa878e3-5139-4ae6-8192-2efd9f6b6512",
   "metadata": {},
   "outputs": [],
   "source": [
    "import pandas as pd\n",
    "import matplotlib.pyplot as plt"
   ]
  },
  {
   "cell_type": "code",
   "execution_count": 15,
   "id": "dd37f336-3614-4377-9955-d0f28aea390c",
   "metadata": {},
   "outputs": [],
   "source": [
    "df = pd.read_csv (\"palo_dc_rules.csv\")"
   ]
  },
  {
   "cell_type": "code",
   "execution_count": 16,
   "id": "b290ab78-dccd-40f6-8282-003a60021591",
   "metadata": {},
   "outputs": [],
   "source": [
    "reduced_columns = df.drop (['Location', 'Tags', 'Group', 'Type', 'Source User', 'Source Device', 'Destination Device', 'Application', 'Service', 'URL Category'\n",
    "                        , 'Profile', 'Options', 'Rule UUID', 'Modified', 'Created'], axis=1)"
   ]
  },
  {
   "cell_type": "code",
   "execution_count": 17,
   "id": "fc74fee9-9e93-49c7-8152-6cf9170d3462",
   "metadata": {},
   "outputs": [],
   "source": [
    "only_used_rules = reduced_columns[df['Rule Usage Rule Usage'].str.contains('Used')]"
   ]
  },
  {
   "cell_type": "code",
   "execution_count": 21,
   "id": "efa6ad2d-bf76-49c6-9c6d-f101ee69517d",
   "metadata": {
    "collapsed": true,
    "jupyter": {
     "outputs_hidden": true
    },
    "tags": []
   },
   "outputs": [
    {
     "ename": "KeyError",
     "evalue": "'Discount'",
     "output_type": "error",
     "traceback": [
      "\u001b[0;31m---------------------------------------------------------------------------\u001b[0m",
      "\u001b[0;31mKeyError\u001b[0m                                  Traceback (most recent call last)",
      "File \u001b[0;32m~/anaconda3/lib/python3.10/site-packages/pandas/core/indexes/base.py:3802\u001b[0m, in \u001b[0;36mIndex.get_loc\u001b[0;34m(self, key, method, tolerance)\u001b[0m\n\u001b[1;32m   3801\u001b[0m \u001b[38;5;28;01mtry\u001b[39;00m:\n\u001b[0;32m-> 3802\u001b[0m     \u001b[38;5;28;01mreturn\u001b[39;00m \u001b[38;5;28;43mself\u001b[39;49m\u001b[38;5;241;43m.\u001b[39;49m\u001b[43m_engine\u001b[49m\u001b[38;5;241;43m.\u001b[39;49m\u001b[43mget_loc\u001b[49m\u001b[43m(\u001b[49m\u001b[43mcasted_key\u001b[49m\u001b[43m)\u001b[49m\n\u001b[1;32m   3803\u001b[0m \u001b[38;5;28;01mexcept\u001b[39;00m \u001b[38;5;167;01mKeyError\u001b[39;00m \u001b[38;5;28;01mas\u001b[39;00m err:\n",
      "File \u001b[0;32m~/anaconda3/lib/python3.10/site-packages/pandas/_libs/index.pyx:138\u001b[0m, in \u001b[0;36mpandas._libs.index.IndexEngine.get_loc\u001b[0;34m()\u001b[0m\n",
      "File \u001b[0;32m~/anaconda3/lib/python3.10/site-packages/pandas/_libs/index.pyx:165\u001b[0m, in \u001b[0;36mpandas._libs.index.IndexEngine.get_loc\u001b[0;34m()\u001b[0m\n",
      "File \u001b[0;32mpandas/_libs/hashtable_class_helper.pxi:5745\u001b[0m, in \u001b[0;36mpandas._libs.hashtable.PyObjectHashTable.get_item\u001b[0;34m()\u001b[0m\n",
      "File \u001b[0;32mpandas/_libs/hashtable_class_helper.pxi:5753\u001b[0m, in \u001b[0;36mpandas._libs.hashtable.PyObjectHashTable.get_item\u001b[0;34m()\u001b[0m\n",
      "\u001b[0;31mKeyError\u001b[0m: 'Discount'",
      "\nThe above exception was the direct cause of the following exception:\n",
      "\u001b[0;31mKeyError\u001b[0m                                  Traceback (most recent call last)",
      "Cell \u001b[0;32mIn[21], line 1\u001b[0m\n\u001b[0;32m----> 1\u001b[0m df\u001b[38;5;241m.\u001b[39mloc[(\u001b[43mdf\u001b[49m\u001b[43m[\u001b[49m\u001b[38;5;124;43m'\u001b[39;49m\u001b[38;5;124;43mDiscount\u001b[39;49m\u001b[38;5;124;43m'\u001b[39;49m\u001b[43m]\u001b[49m \u001b[38;5;241m>\u001b[39m\u001b[38;5;241m=\u001b[39m \u001b[38;5;241m1000\u001b[39m) \u001b[38;5;241m&\u001b[39m (df[\u001b[38;5;124m'\u001b[39m\u001b[38;5;124mDiscount\u001b[39m\u001b[38;5;124m'\u001b[39m] \u001b[38;5;241m<\u001b[39m\u001b[38;5;241m=\u001b[39m \u001b[38;5;241m2000\u001b[39m)]\n",
      "File \u001b[0;32m~/anaconda3/lib/python3.10/site-packages/pandas/core/frame.py:3807\u001b[0m, in \u001b[0;36mDataFrame.__getitem__\u001b[0;34m(self, key)\u001b[0m\n\u001b[1;32m   3805\u001b[0m \u001b[38;5;28;01mif\u001b[39;00m \u001b[38;5;28mself\u001b[39m\u001b[38;5;241m.\u001b[39mcolumns\u001b[38;5;241m.\u001b[39mnlevels \u001b[38;5;241m>\u001b[39m \u001b[38;5;241m1\u001b[39m:\n\u001b[1;32m   3806\u001b[0m     \u001b[38;5;28;01mreturn\u001b[39;00m \u001b[38;5;28mself\u001b[39m\u001b[38;5;241m.\u001b[39m_getitem_multilevel(key)\n\u001b[0;32m-> 3807\u001b[0m indexer \u001b[38;5;241m=\u001b[39m \u001b[38;5;28;43mself\u001b[39;49m\u001b[38;5;241;43m.\u001b[39;49m\u001b[43mcolumns\u001b[49m\u001b[38;5;241;43m.\u001b[39;49m\u001b[43mget_loc\u001b[49m\u001b[43m(\u001b[49m\u001b[43mkey\u001b[49m\u001b[43m)\u001b[49m\n\u001b[1;32m   3808\u001b[0m \u001b[38;5;28;01mif\u001b[39;00m is_integer(indexer):\n\u001b[1;32m   3809\u001b[0m     indexer \u001b[38;5;241m=\u001b[39m [indexer]\n",
      "File \u001b[0;32m~/anaconda3/lib/python3.10/site-packages/pandas/core/indexes/base.py:3804\u001b[0m, in \u001b[0;36mIndex.get_loc\u001b[0;34m(self, key, method, tolerance)\u001b[0m\n\u001b[1;32m   3802\u001b[0m     \u001b[38;5;28;01mreturn\u001b[39;00m \u001b[38;5;28mself\u001b[39m\u001b[38;5;241m.\u001b[39m_engine\u001b[38;5;241m.\u001b[39mget_loc(casted_key)\n\u001b[1;32m   3803\u001b[0m \u001b[38;5;28;01mexcept\u001b[39;00m \u001b[38;5;167;01mKeyError\u001b[39;00m \u001b[38;5;28;01mas\u001b[39;00m err:\n\u001b[0;32m-> 3804\u001b[0m     \u001b[38;5;28;01mraise\u001b[39;00m \u001b[38;5;167;01mKeyError\u001b[39;00m(key) \u001b[38;5;28;01mfrom\u001b[39;00m \u001b[38;5;21;01merr\u001b[39;00m\n\u001b[1;32m   3805\u001b[0m \u001b[38;5;28;01mexcept\u001b[39;00m \u001b[38;5;167;01mTypeError\u001b[39;00m:\n\u001b[1;32m   3806\u001b[0m     \u001b[38;5;66;03m# If we have a listlike key, _check_indexing_error will raise\u001b[39;00m\n\u001b[1;32m   3807\u001b[0m     \u001b[38;5;66;03m#  InvalidIndexError. Otherwise we fall through and re-raise\u001b[39;00m\n\u001b[1;32m   3808\u001b[0m     \u001b[38;5;66;03m#  the TypeError.\u001b[39;00m\n\u001b[1;32m   3809\u001b[0m     \u001b[38;5;28mself\u001b[39m\u001b[38;5;241m.\u001b[39m_check_indexing_error(key)\n",
      "\u001b[0;31mKeyError\u001b[0m: 'Discount'"
     ]
    }
   ],
   "source": [
    "df.loc[(df['Discount'] >= 1000) & (df['Discount'] <= 2000)]"
   ]
  },
  {
   "cell_type": "code",
   "execution_count": null,
   "id": "56faa4b8-06fd-4eeb-99e4-c8b1e3bc5a1a",
   "metadata": {},
   "outputs": [],
   "source": [
    "df.drop"
   ]
  },
  {
   "cell_type": "code",
   "execution_count": 18,
   "id": "9dde5486-2314-4935-8bfa-875592ff2fe6",
   "metadata": {},
   "outputs": [
    {
     "name": "stderr",
     "output_type": "stream",
     "text": [
      "/var/folders/hp/dqvhrhvj1ydd00lqd45m1z_m2spzf3/T/ipykernel_62051/2162769456.py:1: UserWarning: Boolean Series key will be reindexed to match DataFrame index.\n",
      "  only_fqdn_rules = only_used_rules[df['Source Address'].str.contains('amazonaws')]\n"
     ]
    }
   ],
   "source": [
    "only_fqdn_rules = only_used_rules[df['Source Address'].str.contains('amazonaws')]"
   ]
  },
  {
   "cell_type": "code",
   "execution_count": 22,
   "id": "c79f9c3c-bd6d-4e55-ad38-3ec3e7c387a1",
   "metadata": {},
   "outputs": [],
   "source": [
    "only_mi_rules_2 = only_used_rules.loc[(df['Destination Address'].str.contains('mi')) & (df['Destination Address'].str.contains('amazonaws'))]"
   ]
  },
  {
   "cell_type": "code",
   "execution_count": 23,
   "id": "73d34c29-d85f-42ca-95da-2110c1a9ac05",
   "metadata": {},
   "outputs": [],
   "source": [
    "only_mi_rules_1 = only_used_rules.loc[(df['Destination Address'].str.contains('mi'))]"
   ]
  },
  {
   "cell_type": "code",
   "execution_count": 24,
   "id": "72d62356-6e43-4f68-bd06-6156d614af4c",
   "metadata": {},
   "outputs": [
    {
     "name": "stdout",
     "output_type": "stream",
     "text": [
      "<class 'pandas.core.frame.DataFrame'>\n",
      "Int64Index: 175 entries, 45 to 1551\n",
      "Data columns (total 12 columns):\n",
      " #   Column                  Non-Null Count  Dtype \n",
      "---  ------                  --------------  ----- \n",
      " 0   Unnamed: 0              175 non-null    int64 \n",
      " 1   Name                    175 non-null    object\n",
      " 2   Source Zone             175 non-null    object\n",
      " 3   Source Address          175 non-null    object\n",
      " 4   Destination Zone        175 non-null    object\n",
      " 5   Destination Address     175 non-null    object\n",
      " 6   Action                  175 non-null    object\n",
      " 7   Target                  175 non-null    object\n",
      " 8   Rule Usage Description  175 non-null    object\n",
      " 9   Rule Usage Rule Usage   175 non-null    object\n",
      " 10  Rule Usage Apps Seen    175 non-null    int64 \n",
      " 11  Days With No New Apps   175 non-null    object\n",
      "dtypes: int64(2), object(10)\n",
      "memory usage: 17.8+ KB\n"
     ]
    }
   ],
   "source": [
    "only_mi_rules_1.info()"
   ]
  },
  {
   "cell_type": "code",
   "execution_count": 57,
   "id": "9b671b77-992a-467c-a950-098e217186ae",
   "metadata": {
    "tags": []
   },
   "outputs": [
    {
     "name": "stdout",
     "output_type": "stream",
     "text": [
      "<class 'pandas.core.frame.DataFrame'>\n",
      "Int64Index: 80 entries, 45 to 1540\n",
      "Data columns (total 12 columns):\n",
      " #   Column                  Non-Null Count  Dtype \n",
      "---  ------                  --------------  ----- \n",
      " 0   Unnamed: 0              80 non-null     int64 \n",
      " 1   Name                    80 non-null     object\n",
      " 2   Source Zone             80 non-null     object\n",
      " 3   Source Address          80 non-null     object\n",
      " 4   Destination Zone        80 non-null     object\n",
      " 5   Destination Address     80 non-null     object\n",
      " 6   Action                  80 non-null     object\n",
      " 7   Target                  80 non-null     object\n",
      " 8   Rule Usage Description  80 non-null     object\n",
      " 9   Rule Usage Rule Usage   80 non-null     object\n",
      " 10  Rule Usage Apps Seen    80 non-null     int64 \n",
      " 11  Days With No New Apps   80 non-null     object\n",
      "dtypes: int64(2), object(10)\n",
      "memory usage: 8.1+ KB\n"
     ]
    }
   ],
   "source": [
    "only_mi_rules_2.info()"
   ]
  },
  {
   "cell_type": "code",
   "execution_count": 25,
   "id": "7ad4b1da-4390-4e6b-bb25-fd5c2ce66dc5",
   "metadata": {
    "tags": []
   },
   "outputs": [
    {
     "name": "stdout",
     "output_type": "stream",
     "text": [
      "<class 'pandas.core.frame.DataFrame'>\n",
      "Int64Index: 80 entries, 45 to 1540\n",
      "Data columns (total 12 columns):\n",
      " #   Column                  Non-Null Count  Dtype \n",
      "---  ------                  --------------  ----- \n",
      " 0   Unnamed: 0              80 non-null     int64 \n",
      " 1   Name                    80 non-null     object\n",
      " 2   Source Zone             80 non-null     object\n",
      " 3   Source Address          80 non-null     object\n",
      " 4   Destination Zone        80 non-null     object\n",
      " 5   Destination Address     80 non-null     object\n",
      " 6   Action                  80 non-null     object\n",
      " 7   Target                  80 non-null     object\n",
      " 8   Rule Usage Description  80 non-null     object\n",
      " 9   Rule Usage Rule Usage   80 non-null     object\n",
      " 10  Rule Usage Apps Seen    80 non-null     int64 \n",
      " 11  Days With No New Apps   80 non-null     object\n",
      "dtypes: int64(2), object(10)\n",
      "memory usage: 8.1+ KB\n"
     ]
    }
   ],
   "source": [
    "only_mi_rules_2.info()"
   ]
  },
  {
   "cell_type": "code",
   "execution_count": 26,
   "id": "ba7cf443-82d0-491b-9730-20f25a045bd3",
   "metadata": {},
   "outputs": [
    {
     "data": {
      "text/plain": [
       "<Axes: xlabel='Name', ylabel='Source Zone'>"
      ]
     },
     "execution_count": 26,
     "metadata": {},
     "output_type": "execute_result"
    },
    {
     "data": {
      "image/png": "[encoded data removed]",
      "text/plain": [
       "<Figure size 640x480 with 1 Axes>"
      ]
     },
     "metadata": {},
     "output_type": "display_data"
    }
   ],
   "source": [
    "only_mi_rules_2.plot(x='Name', y='Source Zone', kind='scatter')"
   ]
  },
  {
   "cell_type": "code",
   "execution_count": 8,
   "id": "5aa1ba2c-ff53-43bd-851e-dff4b44ef7e4",
   "metadata": {},
   "outputs": [],
   "source": [
    "plt.show()"
   ]
  },
  {
   "cell_type": "code",
   "execution_count": 58,
   "id": "6d7af408-51ba-4b55-8bf7-cb4e3ec3d3cd",
   "metadata": {},
   "outputs": [],
   "source": [
    "only_mi_rules_1.to_csv('only_mi_rules_1.csv')"
   ]
  },
  {
   "cell_type": "code",
   "execution_count": 59,
   "id": "25c16023-a249-455d-9723-0017525bdf95",
   "metadata": {},
   "outputs": [],
   "source": [
    "only_mi_rules_2.to_csv('only_mi_rules_2.csv')"
   ]
  },
  {
   "cell_type": "code",
   "execution_count": 3,
   "id": "e5e1ca4d-c75b-4abb-8c28-60ae78ab15a5",
   "metadata": {},
   "outputs": [
    {
     "ename": "SyntaxError",
     "evalue": "invalid syntax. Perhaps you forgot a comma? (3929754626.py, line 1)",
     "output_type": "error",
     "traceback": [
      "\u001b[0;36m  Cell \u001b[0;32mIn[3], line 1\u001b[0;36m\u001b[0m\n\u001b[0;31m    print(only_mi_rules_2.Destination Address.unique())\u001b[0m\n\u001b[0m          ^\u001b[0m\n\u001b[0;31mSyntaxError\u001b[0m\u001b[0;31m:\u001b[0m invalid syntax. Perhaps you forgot a comma?\n"
     ]
    }
   ],
   "source": [
    "print(only_mi_rules_2.Destination Address.unique())"
   ]
  },
  {
   "cell_type": "code",
   "execution_count": 4,
   "id": "8d4b35c8-b2c4-443f-bf11-25e39c3b7a82",
   "metadata": {},
   "outputs": [
    {
     "ename": "NameError",
     "evalue": "name 'pd' is not defined",
     "output_type": "error",
     "traceback": [
      "\u001b[0;31m---------------------------------------------------------------------------\u001b[0m",
      "\u001b[0;31mNameError\u001b[0m                                 Traceback (most recent call last)",
      "Cell \u001b[0;32mIn[4], line 1\u001b[0m\n\u001b[0;32m----> 1\u001b[0m \u001b[38;5;28mprint\u001b[39m(\u001b[43mpd\u001b[49m\u001b[38;5;241m.\u001b[39munique(df[\u001b[38;5;124m'\u001b[39m\u001b[38;5;124mDestination Address\u001b[39m\u001b[38;5;124m'\u001b[39m]))\n",
      "\u001b[0;31mNameError\u001b[0m: name 'pd' is not defined"
     ]
    }
   ],
   "source": [
    "print(pd.unique(df['Destination Address']))"
   ]
  },
  {
   "cell_type": "code",
   "execution_count": 52,
   "id": "4ad93987-644a-47d1-946f-170df22ae4b1",
   "metadata": {},
   "outputs": [
    {
     "name": "stdout",
     "output_type": "stream",
     "text": [
      "      Unnamed: 0                                          Name Source Zone  \\\n",
      "45            46          int_app_nprd_mi-ncw-oas-e2e-soap_001      MO_VRF   \n",
      "46            47        int_app_npd_ncw_mi-to-oas_ping_app_001      MO_VRF   \n",
      "47            48        int_app_npd_ncw_mi-to-oas_ping_app_002      MO_VRF   \n",
      "55            56                   int_app_nprd_odi-to-oas_001      MO_VRF   \n",
      "67            68                   int_app_nprd_dwh_to_odi-005   MO-AWS-DC   \n",
      "...          ...                                           ...         ...   \n",
      "1536        1537      int_app_prd_ora_app10_to_ncw_mi_prod_001      MO_VRF   \n",
      "1540        1541  int_app_prd_ora_app10_to_ncw_mi_oas_prod_001      MO_VRF   \n",
      "1548        1549                    int_app_prd_MDP_to_ODS_001      MO_VRF   \n",
      "1550        1551      int_app_prod-NCW-Prod-MI-to-ODI-ocp4_001      MO_VRF   \n",
      "1551        1552        int_app_prd-NCW-MI_ODI_OCP4_to_SOA_001      MO_VRF   \n",
      "\n",
      "                                         Source Address Destination Zone  \\\n",
      "45    Park-Royal-VMs_VLAN722;Park-Royal-VMs_VLAN1107...        MO-AWS-DC   \n",
      "46                                         H_10.7.40.80        MO-AWS-DC   \n",
      "47                                         H_10.7.40.80        MO-AWS-DC   \n",
      "55    All-Bristol-LAN;ALL-CGH-LAN;N-10.2.0.0-16;N-10...        MO-AWS-DC   \n",
      "67    uatdwhctdb.cokevkjh5apa.eu-west-1.rds.amazonaw...           MO_VRF   \n",
      "...                                                 ...              ...   \n",
      "1536                            hc1proraapp10.mfl.co.uk        MO-AWS-DC   \n",
      "1540                            hc1proraapp10.mfl.co.uk        MO-AWS-DC   \n",
      "1548  hc1prodmdpdb04.mfl.co.uk;hc1prodmdpdb14.mfl.co.uk        MO-AWS-DC   \n",
      "1550    hc1proraapp08.mfl.co.uk;hc1proraapp18.mfl.co.uk        MO-AWS-DC   \n",
      "1551  hc1prodsoaboapp01.mfl.co.uk;hc1prodsoaboapp02....        MO-AWS-DC   \n",
      "\n",
      "                                    Destination Address Action Target  \\\n",
      "45             mioascte2e01.a953402997598.amazonaws.com  Allow    any   \n",
      "46             mioascte2e01.a953402997598.amazonaws.com  Allow    any   \n",
      "47               mi-oascte2e.cms.motabilityonline.co.uk  Allow    any   \n",
      "55             mioasctuat01.a953402997598.amazonaws.com  Allow    any   \n",
      "67    tst8hc1mirdb01-vip.mfltest.co.uk;tst8hc1mirdb0...  Allow    any   \n",
      "...                                                 ...    ...    ...   \n",
      "1536  mimetprd.motabilityonline-prd.internal;mimetpr...  Allow    any   \n",
      "1540  mioasctprd01.a806423805748.amazonaws.com;mioas...  Allow    any   \n",
      "1548  miodsprd11.A806423805748.AMAZONAWS.COM;miodspr...  Allow    any   \n",
      "1550             mi-odictprd.cms.motabilityonline.co.uk  Allow    any   \n",
      "1551  mi-odictprd.cms.motabilityonline.co.uk;N-10.64...  Allow    any   \n",
      "\n",
      "                                 Rule Usage Description Rule Usage Rule Usage  \\\n",
      "45    NC-2990;25/02/22;Park Royal VMs to OAS E2E soa...        Partially Used   \n",
      "46    NC-3111 NCW MI (NONPROD) - OAS VMs MFLTEST to ...        Partially Used   \n",
      "47    NC-3111:R2 NCW MI (NONPROD) - OAS VMs MFLTEST ...        Partially Used   \n",
      "55    NC-3004;22/03/2022;NCW Nonprod-MI (UAT) - User...        Partially Used   \n",
      "67    NC-2996;28/02/2022;NCW Nonprod-MI (UAT) - DWH ...                  Used   \n",
      "...                                                 ...                   ...   \n",
      "1536  NC-3741 NCW MI (PROD) - OAS Coretech PeakETA c...                  Used   \n",
      "1540  NC-3741 NCW MI (PROD) - OAS Coretech PeakETA c...                  Used   \n",
      "1548    NCW PROD-MI(PROD) MDP to ODS;04/10/2022;NC-3213        Partially Used   \n",
      "1550  NC-3258;NCW Prod-MI - MDP Admin to ODI;19/10/2022        Partially Used   \n",
      "1551  NC-3270;NCW Nonprod-MI (PROD) - ODI Coretech t...                  Used   \n",
      "\n",
      "      Rule Usage Apps Seen Days With No New Apps  \n",
      "45                       1                   348  \n",
      "46                       0                     -  \n",
      "47                       0                     -  \n",
      "55                       2                   278  \n",
      "67                       2                   363  \n",
      "...                    ...                   ...  \n",
      "1536                     1                   278  \n",
      "1540                     1                   278  \n",
      "1548                     1                   188  \n",
      "1550                     2                   141  \n",
      "1551                     1                   148  \n",
      "\n",
      "[175 rows x 12 columns]\n"
     ]
    }
   ],
   "source": [
    "print (only_fqdn_rules)"
   ]
  },
  {
   "cell_type": "code",
   "execution_count": null,
   "id": "f639a947-8067-40ce-afa7-6d77cf1557f8",
   "metadata": {},
   "outputs": [],
   "source": []
  }
 ],
 "metadata": {
  "kernelspec": {
   "display_name": "Python 3 (ipykernel)",
   "language": "python",
   "name": "python3"
  },
  "language_info": {
   "codemirror_mode": {
    "name": "ipython",
    "version": 3
   },
   "file_extension": ".py",
   "mimetype": "text/x-python",
   "name": "python",
   "nbconvert_exporter": "python",
   "pygments_lexer": "ipython3",
   "version": "3.10.9"
  }
 },
 "nbformat": 4,
 "nbformat_minor": 5
}
