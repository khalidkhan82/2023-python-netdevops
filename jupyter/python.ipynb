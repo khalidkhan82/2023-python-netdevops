{
 "cells": [
  {
   "cell_type": "markdown",
   "metadata": {},
   "source": [
    "## **1. Print Statement** ##\n"
   ]
  },
  {
   "cell_type": "code",
   "metadata": {
    "ExecuteTime": {
     "end_time": "2024-10-13T08:58:18.882138Z",
     "start_time": "2024-10-13T08:58:18.880271Z"
    }
   },
   "source": "print(\"hello world\")",
   "outputs": [
    {
     "name": "stdout",
     "output_type": "stream",
     "text": [
      "hello world\n"
     ]
    }
   ],
   "execution_count": 3
  },
  {
   "cell_type": "markdown",
   "metadata": {},
   "source": [
    "## **2. Strings**"
   ]
  },
  {
   "cell_type": "markdown",
   "metadata": {},
   "source": [
    "   #### **2.1 String Assignment**"
   ]
  },
  {
   "cell_type": "code",
   "metadata": {
    "slideshow": {
     "slide_type": "slide"
    },
    "ExecuteTime": {
     "end_time": "2024-10-13T08:58:18.367396Z",
     "start_time": "2024-10-13T08:58:18.353031Z"
    }
   },
   "source": [
    "name = \"alice\"\n",
    "\n",
    "print(name)"
   ],
   "outputs": [
    {
     "name": "stdout",
     "output_type": "stream",
     "text": [
      "alice\n"
     ]
    }
   ],
   "execution_count": 1
  },
  {
   "cell_type": "markdown",
   "metadata": {},
   "source": [
    "#### **2.2 String Splicing** #####"
   ]
  },
  {
   "metadata": {
    "ExecuteTime": {
     "end_time": "2024-10-13T08:59:24.815270Z",
     "start_time": "2024-10-13T08:59:24.812652Z"
    }
   },
   "cell_type": "code",
   "source": [
    "a = 10\n",
    "b = 20\n",
    "c = a + b\n",
    "\n",
    "print(c)"
   ],
   "outputs": [
    {
     "name": "stdout",
     "output_type": "stream",
     "text": [
      "30\n"
     ]
    }
   ],
   "execution_count": 4
  },
  {
   "metadata": {},
   "cell_type": "markdown",
   "source": "### Generators\n"
  },
  {
   "metadata": {
    "jupyter": {
     "is_executing": true
    }
   },
   "cell_type": "code",
   "source": [
    "def counter(max_value: int):\n",
    "    number = 0\n",
    "    while number <= max_value:\n",
    "        yield number\n",
    "        number += 1\n",
    "\n",
    "\n",
    "numbers = counter(5)\n",
    "\n",
    "try:\n",
    "\tprint(\"first number:\", next(numbers))\n",
    "\tprint(\"2nd number:\", next(numbers))\n",
    "\tprint(\"3rd number:\", next(numbers))\n",
    "\tprint(\"4th number:\", next(numbers))\n",
    "\tprint(\"5th number:\", next(numbers))\n",
    "\tprint(next(numbers))\n",
    "\tprint(next(numbers))\n",
    "except StopIteration:\n",
    "    print(\"ran out of numbers\")\n"
   ],
   "outputs": [],
   "execution_count": null
  },
  {
   "metadata": {},
   "cell_type": "code",
   "outputs": [],
   "execution_count": null,
   "source": ""
  }
 ],
 "metadata": {
  "kernelspec": {
   "display_name": "Python 3",
   "language": "python",
   "name": "python3"
  },
  "language_info": {
   "codemirror_mode": {
    "name": "ipython",
    "version": 3
   },
   "file_extension": ".py",
   "mimetype": "text/x-python",
   "name": "python",
   "nbconvert_exporter": "python",
   "pygments_lexer": "ipython3",
   "version": "3.9.6"
  }
 },
 "nbformat": 4,
 "nbformat_minor": 2
}
