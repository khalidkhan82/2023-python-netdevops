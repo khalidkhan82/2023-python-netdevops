{
 "cells": [
  {
   "cell_type": "markdown",
   "metadata": {},
   "source": [
    "# **Functions** # "
   ]
  },
  {
   "cell_type": "markdown",
   "metadata": {},
   "source": [
    "##### **Create a function with no arguments** #####"
   ]
  },
  {
   "cell_type": "code",
   "execution_count": null,
   "metadata": {},
   "outputs": [],
   "source": [
    "def hello():\n",
    "    print(\"Hello World!\")           #our function uses the built-in print() function to print the enclosed message\n",
    "\n",
    "hello()                             #we call our hello() function"
   ]
  },
  {
   "cell_type": "markdown",
   "metadata": {},
   "source": [
    "##### **Create a function with a single argument** #####"
   ]
  },
  {
   "cell_type": "code",
   "execution_count": null,
   "metadata": {},
   "outputs": [],
   "source": [
    "def hello(message):                  #our hello function accepts a single argument named 'message'\n",
    "    print(message)                   #our function uses the built-in print() function to print the content of the variable 'message'\n",
    "\n",
    "hello(\"hello people\")                #we call our hello() function and pass on our message string as an argument"
   ]
  },
  {
   "cell_type": "markdown",
   "metadata": {},
   "source": [
    "##### **Create a function with positional arguments** #####"
   ]
  },
  {
   "cell_type": "code",
   "execution_count": null,
   "metadata": {},
   "outputs": [],
   "source": [
    "def divide(x, y):                                 #our function accepts two simple positional arguments - x and y\n",
    "    print(x/y)\n",
    "    \n",
    "#we want to divide 10 by 5, we will get a correct answer here as the position of the arguments is what we expect\n",
    "divide(10, 5)   \n",
    "               \n",
    " #we want to divide 10 by 5 but we will get an incorrect answer here as the position of the arguments is not what we expect                   \n",
    "divide(5, 10)                                    \n",
    "\n",
    "#we want to divide 10 by 5 and we will get a correct answer even though the position of the arguments \n",
    "# is not the same as in the function definition    \n",
    "divide(y=5, x=10)                                 "
   ]
  },
  {
   "cell_type": "markdown",
   "metadata": {},
   "source": [
    "##### **Create a function with a multiple argument** #####"
   ]
  },
  {
   "cell_type": "code",
   "execution_count": null,
   "metadata": {},
   "outputs": [],
   "source": [
    "def hello(*message, repeat):                                #our function accepts two arguments - a keyword argument named 'message' (defined using *), followed by a positional argument named 'repeat'\n",
    "    for x in range(repeat):                                 #a for loop and the range function\n",
    "        print(message)\n",
    "    \n",
    "hello(\"hello world!\", \"welcome aboard\", repeat=5)           #positional argument follows keyword argument\n",
    "\n",
    "hello(repeat = 5, \"hello world!\", \"welcome aboard\")         #this will throw an error as the positional argument is before the keyword argument\n"
   ]
  },
  {
   "cell_type": "markdown",
   "metadata": {},
   "source": [
    "##### **Function with return values** #####"
   ]
  },
  {
   "cell_type": "code",
   "execution_count": 15,
   "metadata": {},
   "outputs": [
    {
     "name": "stdout",
     "output_type": "stream",
     "text": [
      "15\n"
     ]
    }
   ],
   "source": [
    "def add(x, y):                                    #our function accepts two simple positional arguments - x and y\n",
    "    return x + y                                  #our function adds the two value and returns the result using the 'return' keyword \n",
    "    \n",
    "#we create a varilable named 'result', call our add() function and assign the returned value from the function to this variable\n",
    "result = add(5, 10)   \n",
    "                            \n",
    "print(result)"
   ]
  }
 ],
 "metadata": {
  "kernelspec": {
   "display_name": "Python 3",
   "language": "python",
   "name": "python3"
  },
  "language_info": {
   "codemirror_mode": {
    "name": "ipython",
    "version": 3
   },
   "file_extension": ".py",
   "mimetype": "text/x-python",
   "name": "python",
   "nbconvert_exporter": "python",
   "pygments_lexer": "ipython3",
   "version": "3.9.6"
  }
 },
 "nbformat": 4,
 "nbformat_minor": 2
}
